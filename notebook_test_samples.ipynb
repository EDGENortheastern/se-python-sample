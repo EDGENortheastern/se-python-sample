{
 "cells": [
  {
   "cell_type": "markdown",
   "source": "# Python tests via Jupyter",
   "metadata": {
    "tags": [],
    "cell_id": "3001adbe2cc8497fa2db7d326c2d1245",
    "deepnote_cell_type": "markdown",
    "deepnote_cell_height": 82
   }
  },
  {
   "cell_type": "markdown",
   "source": "## Docstrings",
   "metadata": {
    "tags": [],
    "cell_id": "61878b4dbd814fe89819d9e810b24dc8",
    "deepnote_cell_type": "markdown",
    "deepnote_cell_height": 70
   }
  },
  {
   "cell_type": "code",
   "source": "def add_nums(num1, num2):\n    '''\n    Adds two numbers, does not do error handling\n\n    >>> add_nums(2,2)\n    4\n    '''\n    return num1 + num2",
   "metadata": {
    "tags": [],
    "cell_id": "50f8fb4ef5c74dee83ee5aa0dcd798db",
    "source_hash": "4f682517",
    "execution_start": 1671116601153,
    "execution_millis": 0,
    "deepnote_to_be_reexecuted": false,
    "deepnote_cell_type": "code",
    "deepnote_cell_height": 202
   },
   "execution_count": 4,
   "outputs": []
  },
  {
   "cell_type": "code",
   "metadata": {
    "tags": [],
    "cell_id": "949c86e3e29748b2a7fa9243847adb5e",
    "source_hash": "ada966ce",
    "execution_start": 1671116608092,
    "execution_millis": 3,
    "deepnote_to_be_reexecuted": false,
    "deepnote_cell_type": "code",
    "deepnote_cell_height": 243.796875
   },
   "source": "help(add_nums)",
   "execution_count": 5,
   "outputs": [
    {
     "name": "stdout",
     "text": "Help on function add_nums in module __main__:\n\nadd_nums(num1, num2)\n    Adds two numbers, does not do error handling\n    \n    >>> add_nums(2,2)\n    4\n\n",
     "output_type": "stream"
    }
   ]
  },
  {
   "cell_type": "code",
   "metadata": {
    "tags": [],
    "cell_id": "ea279d5fbbe4409aa4ed4117056e4f42",
    "source_hash": "b46655de",
    "execution_start": 1671116634865,
    "execution_millis": 5,
    "deepnote_to_be_reexecuted": false,
    "deepnote_cell_type": "code",
    "deepnote_cell_height": 112.1875,
    "deepnote_output_heights": [
     20.1875
    ]
   },
   "source": "add_nums(2,3)",
   "execution_count": 6,
   "outputs": [
    {
     "output_type": "execute_result",
     "execution_count": 6,
     "data": {
      "text/plain": "5"
     },
     "metadata": {}
    }
   ]
  },
  {
   "cell_type": "markdown",
   "source": "## Doctest",
   "metadata": {
    "tags": [],
    "cell_id": "322ace3fdd274a91aa4a1cc6008c9390",
    "deepnote_cell_type": "markdown",
    "deepnote_cell_height": 70
   }
  },
  {
   "cell_type": "code",
   "source": "import doctest",
   "metadata": {
    "cell_id": "566ec623f7484c41b56135521c5ce089",
    "tags": [],
    "deepnote_to_be_reexecuted": false,
    "source_hash": "378e3469",
    "execution_start": 1671116654565,
    "execution_millis": 2,
    "deepnote_cell_type": "code",
    "deepnote_cell_height": 76
   },
   "outputs": [],
   "execution_count": 7
  },
  {
   "cell_type": "code",
   "source": "doctest.testmod(verbose=True)",
   "metadata": {
    "cell_id": "c84f2d66498c47df98b04bcc239a397b",
    "tags": [],
    "deepnote_to_be_reexecuted": false,
    "source_hash": "bb7549bc",
    "execution_start": 1671116687094,
    "execution_millis": 10,
    "deepnote_cell_type": "code",
    "deepnote_cell_height": 61
   },
   "outputs": [
    {
     "name": "stdout",
     "text": "Trying:\n    add_nums(2,2)\nExpecting:\n    4\nok\nTrying:\n    add_nums2(2,3)\nExpecting:\n    5\nok\n23 items had no tests:\n    __main__\n    __main__.DeepnoteChart\n    __main__.DeepnoteChart.__init__\n    __main__.DeepnoteChart._repr_mimebundle_\n    __main__._deepnote_add_formatters\n    __main__._deepnote_browse_df\n    __main__._deepnote_convert_objects_to_string\n    __main__._deepnote_convert_timedelta_columns_to_seconds\n    __main__._deepnote_escape_jinja_template\n    __main__._deepnote_execute_sql\n    __main__._deepnote_execute_sql_on_engine\n    __main__._deepnote_export_df\n    __main__._deepnote_get_used_fields_from_vega_lite_spec\n    __main__._deepnote_get_var_list\n    __main__._deepnote_persist_notebook_session\n    __main__._deepnote_prepare_connection_for_duckdb\n    __main__._deepnote_remove_system_modules_from_globals\n    __main__._deepnote_render_template\n    __main__._deepnote_restore_notebook_session\n    __main__._deepnote_sanitize_dataframe\n    __main__._deepnote_set_integration_env\n    __main__._deepnote_verify_chart\n    __main__._set_notebook_path\n2 items passed all tests:\n   1 tests in __main__.add_nums\n   1 tests in __main__.add_nums2\n2 tests in 25 items.\n2 passed and 0 failed.\nTest passed.\n",
     "output_type": "stream"
    },
    {
     "output_type": "execute_result",
     "execution_count": 8,
     "data": {
      "text/plain": "TestResults(failed=0, attempted=2)"
     },
     "metadata": {}
    }
   ],
   "execution_count": 8
  },
  {
   "cell_type": "markdown",
   "source": "<a style='text-decoration:none;line-height:16px;display:flex;color:#5B5B62;padding:10px;justify-content:end;' href='https://deepnote.com?utm_source=created-in-deepnote-cell&projectId=57b8557c-ac3f-4f9a-8d6d-aa4f419affb3' target=\"_blank\">\n<img alt='Created in deepnote.com' style='display:inline;max-height:16px;margin:0px;margin-right:7.5px;' src='data:image/svg+xml;base64,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' > </img>\nCreated in <span style='font-weight:600;margin-left:4px;'>Deepnote</span></a>",
   "metadata": {
    "tags": [],
    "created_in_deepnote_cell": true,
    "deepnote_cell_type": "markdown"
   }
  }
 ],
 "nbformat": 4,
 "nbformat_minor": 0,
 "metadata": {
  "deepnote": {},
  "orig_nbformat": 2,
  "deepnote_notebook_id": "28c75a39875b4adeb7ea30c88ab41bc1",
  "deepnote_execution_queue": []
 }
}